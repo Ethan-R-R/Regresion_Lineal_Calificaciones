{
 "cells": [
  {
   "cell_type": "markdown",
   "metadata": {},
   "source": [
    "En este trabajo se va a trabajar en una base de datos de calificaciones sacada del Student Performance Data Set en el UCI Machine Learning Repository para intentar predecir la calificación de un alumno dadas las siguientes variables:\n",
    "\n",
    "•“Escuela”. Indica si el estudiante en cuestión asistía a la escuela Gabriel Pereira (GP) oa la escuela Mousinho da Silveira (MS). \n",
    "\n",
    "•“Sexo”. F para mujeres y H para hombres.\n",
    "\n",
    "• “Edad”. Edad del estudiante, en años.\n",
    "\n",
    "• “HorasDeEstudio”. Cantidad de horas de estudio: 1 indica menos de dos horas, 2\n",
    "indica de dos a cinco horas, 3 indica de cinco a diez horas, 4 indica más de diez horas.\n",
    "\n",
    "• “Reprobadas”. Indica la cantidad de materias reprobadas previamente.\n",
    "\n",
    "• “Internet”. Si el estudiante tenía acceso (yes) o no (no) a internet en su casa.\n",
    "\n",
    "• “Faltas”. Cantidad de veces que faltó a clases.\n",
    "\n",
    "• “G1”. Calificación del primer periodo, escala del 0 al 20.\n",
    "\n",
    "• “G2”. Calificación del segundo periodo, escala del 0 al 20.\n",
    "\n",
    "• “G3”. Calificación final, escala del 0 al 20\n",
    "\n",
    "Antes de poder hacer nuestro modelo de regresión múltiple, primero tenemos que limpiar la base de datos y asegurarnos de que todas nuestras variables se puedan trabajar. Para darnos una idea inicial de con que estamos trabajando, una vez hayamos importado la base de datos al ambiente de trabajo, imprimiremos los datatypes de cada variable.\n"
   ]
  },
  {
   "cell_type": "code",
   "execution_count": 11,
   "metadata": {},
   "outputs": [
    {
     "name": "stdout",
     "output_type": "stream",
     "text": [
      "Escuela           object\n",
      "Sexo              object\n",
      "Edad               int64\n",
      "HorasDeEstudio     int64\n",
      "Reprobadas         int64\n",
      "Internet          object\n",
      "Faltas             int64\n",
      "G1                 int64\n",
      "G2                 int64\n",
      "G3                 int64\n",
      "dtype: object\n"
     ]
    }
   ],
   "source": [
    "import pandas as pd\n",
    "df = pd.read_csv(\"A1.5 Calificaciones.csv\")\n",
    "print(df.dtypes)"
   ]
  },
  {
   "cell_type": "markdown",
   "metadata": {},
   "source": [
    "Podemos observar que las siguientes variables son del tipo object:\n",
    "Escuela\n",
    "Sexo\n",
    "Internet\n",
    "\n",
    "Esto quiere decir que tienen texto, o una combinación de caracteres y letras. Hace sentido dentro del contexto de la base de datos, porque son las que tienen características cualitativas y categóricas. Podemos cambiar estas variables por variables tipo dummy, para poder trabajar con ellas.\n",
    "\n",
    "Haremos uso de un ciclo for que pase por todos los índices que corresponden a las variables del tipo object. Para encontrar esos indices usaremos la función where de la libreria numpy usando como argumento df.dtypes==object. \n",
    "\n",
    "Dentro del ciclo for vamos a usar la función get dummies de pandas. En esta vamos a usar como argumento las columnas correspondientes a las variables que queremos cambiar, el termino drop_first = True para hacer que solo se generen l-1 variables (una es redundante, por lo que la eliminamos), y dtype = 'float64', esto porque por predeterminado se pueden llegar a generar variables booleanas (0,1) en lugar de enteros, y las bool pueden no ser compatibles con las operaciones de regresión lineal.  \n",
    "\n"
   ]
  },
  {
   "cell_type": "code",
   "execution_count": 12,
   "metadata": {},
   "outputs": [
    {
     "name": "stdout",
     "output_type": "stream",
     "text": [
      "   Edad  HorasDeEstudio  Reprobadas  Faltas  G1  G2  G3  Escuela_MS  Sexo_M  \\\n",
      "0    18               2           0       6   5   6   6         0.0     0.0   \n",
      "1    17               2           0       4   5   5   6         0.0     0.0   \n",
      "2    15               2           3      10   7   8  10         0.0     0.0   \n",
      "3    15               3           0       2  15  14  15         0.0     0.0   \n",
      "4    16               2           0       4   6  10  10         0.0     0.0   \n",
      "\n",
      "   Internet_yes  \n",
      "0           0.0  \n",
      "1           1.0  \n",
      "2           1.0  \n",
      "3           1.0  \n",
      "4           0.0  \n",
      "(395, 10)\n"
     ]
    }
   ],
   "source": [
    "import numpy as np \n",
    "#Almacenar las variables que vamos a eliminar en un indice. \n",
    "ind = np.where(df.dtypes == object)\n",
    "#generar variables dummy\n",
    "for i in ind:\n",
    "    dummy = pd.get_dummies(df.iloc[:,i],drop_first=True,dtype='float64')\n",
    "    df = pd.concat([df,dummy],axis=1)\n",
    "#eliminar las variables originales del dataframe\n",
    "df = df.drop(labels = df.columns[ind],axis= 1)\n",
    "print(df.head())\n",
    "print(df.shape)\n",
    "\n"
   ]
  },
  {
   "cell_type": "markdown",
   "metadata": {},
   "source": [
    "Podría parecer que ya solo tenemos variables numéricas, sin embargo, aunque Horas de Estudio no tiene un datatype de tipo object, es una variable categórica, así que tenemos que remplazarla también. \n",
    "\n",
    "Haremos un proceso muy similar al anterior. \n"
   ]
  },
  {
   "cell_type": "code",
   "execution_count": 13,
   "metadata": {},
   "outputs": [
    {
     "name": "stdout",
     "output_type": "stream",
     "text": [
      "   Edad  Reprobadas  Faltas  G1  G2  G3  Escuela_MS  Sexo_M  Internet_yes  \\\n",
      "0    18           0       6   5   6   6         0.0     0.0           0.0   \n",
      "1    17           0       4   5   5   6         0.0     0.0           1.0   \n",
      "2    15           3      10   7   8  10         0.0     0.0           1.0   \n",
      "3    15           0       2  15  14  15         0.0     0.0           1.0   \n",
      "4    16           0       4   6  10  10         0.0     0.0           0.0   \n",
      "\n",
      "     2    3    4  \n",
      "0  1.0  0.0  0.0  \n",
      "1  1.0  0.0  0.0  \n",
      "2  1.0  0.0  0.0  \n",
      "3  0.0  1.0  0.0  \n",
      "4  1.0  0.0  0.0  \n"
     ]
    }
   ],
   "source": [
    "# Crear variable dummy\n",
    "dummyEstudio = pd.get_dummies(df.HorasDeEstudio,drop_first=True,dtype='float64')\n",
    "# Concatenar la variable dummy al data frame\n",
    "df = pd.concat([df,dummyEstudio],axis=1)\n",
    "# Eliminar la variable del data frame\n",
    "df = df.drop(\"HorasDeEstudio\",axis=1)\n",
    "print(df.head())\n"
   ]
  },
  {
   "cell_type": "markdown",
   "metadata": {},
   "source": [
    "Nos interesa ver que no existan valores atípicos que puedan afectar a nuestro modelo, por el momento solo verificaremos que no los haya en la variable Faltas, aunque lo correcto sería una búsqueda más exhaustiva. \n",
    "\n",
    "Utilizaremos el método de Tukey con k = 3\n"
   ]
  },
  {
   "cell_type": "code",
   "execution_count": 14,
   "metadata": {},
   "outputs": [
    {
     "name": "stdout",
     "output_type": "stream",
     "text": [
      "     Edad  Reprobadas  Faltas  G1  G2  G3  Escuela_MS  Sexo_M  Internet_yes  \\\n",
      "74     16           0      54  11  12  11         0.0     0.0           1.0   \n",
      "183    17           0      56   9   9   8         0.0     0.0           1.0   \n",
      "276    18           0      75  10   9   9         0.0     0.0           1.0   \n",
      "307    19           1      38   8   9   8         0.0     1.0           1.0   \n",
      "315    19           1      40  13  11  11         0.0     0.0           1.0   \n",
      "\n",
      "       2    3    4  \n",
      "74   1.0  0.0  0.0  \n",
      "183  1.0  0.0  0.0  \n",
      "276  1.0  0.0  0.0  \n",
      "307  0.0  0.0  0.0  \n",
      "315  0.0  1.0  0.0  \n",
      "5.708860759493671\n",
      "4.0\n"
     ]
    }
   ],
   "source": [
    "#Cuartil 1 y 2\n",
    "q1 = df.Faltas.quantile(0.25)\n",
    "q3 = df.Faltas.quantile(0.75)\n",
    "#Rango intercuartil\n",
    "iqr = q3\n",
    "#limites \n",
    "li = q1-3*iqr\n",
    "ls = q3 + 3*iqr\n",
    "#Imprimir todos los valores atípicos.\n",
    "\n",
    "out = np.where((df.Faltas <= li) | (df.Faltas>=ls) )[0]\n",
    "print(df.iloc[out,:])\n",
    "\n",
    "print(df.loc[:,\"Faltas\"].mean())\n",
    "print(df[\"Faltas\"].median())"
   ]
  },
  {
   "cell_type": "markdown",
   "metadata": {},
   "source": [
    "Todos los valores atípicos son de alumnos de alrededor de 17-19 años que pertenecen a la escuela GP. La mayoría de esos alumnos estudia de entre 2 a 5 horas, pero tienen calificaciones bajas, con una calificación final que da alrededor de la mitad de los puntos. Considero que posiblemente, aunque sean valores muy dramáticos, no sean un error. Por lo que los voy a dejar. \n",
    "\n",
    "Ya que analizamos la presencia de valores atípicos, procederemos a buscar si existen algunas variables que se correlacionen entre ellas, y que por lo tanto sean redundantes. \n",
    "Para esto, haremos una matriz de correlación que podremos visualizar con un heatmap, una herramienta que le asigna un color a cada valor. \n"
   ]
  },
  {
   "cell_type": "code",
   "execution_count": 15,
   "metadata": {},
   "outputs": [
    {
     "name": "stdout",
     "output_type": "stream",
     "text": [
      "Mayor correlacion : 4 , 5\n",
      "0.904867989269301\n",
      "Index([        'Edad',   'Reprobadas',       'Faltas',           'G1',\n",
      "                 'G2',           'G3',   'Escuela_MS',       'Sexo_M',\n",
      "       'Internet_yes',              2,              3,              4],\n",
      "      dtype='object')\n"
     ]
    },
    {
     "data": {
      "text/plain": [
       "Text(0.5, 1.0, 'Mapa de Calor de Correlaciones entre Variables')"
      ]
     },
     "execution_count": 15,
     "metadata": {},
     "output_type": "execute_result"
    },
    {
     "data": {
      "image/png": "[encoded data removed]",
      "text/plain": [
       "<Figure size 640x480 with 2 Axes>"
      ]
     },
     "metadata": {},
     "output_type": "display_data"
    }
   ],
   "source": [
    "#obtener los coeficientes de correlacion\n",
    "cor = abs(np.corrcoef(df,rowvar=False))\n",
    "np.fill_diagonal(cor,0)\n",
    "\n",
    "i,j = np.unravel_index(cor.argmax(),cor.shape)\n",
    "\n",
    "print(\"Mayor correlacion :\",i,\",\",j)\n",
    "print(cor[i,j])\n",
    "import matplotlib.pyplot as plt\n",
    "from seaborn import heatmap\n",
    "\n",
    "heatmap(cor)\n",
    "print(df.columns)\n",
    "\n",
    "plt.title(\"Mapa de Calor de Correlaciones entre Variables\")\n"
   ]
  },
  {
   "cell_type": "markdown",
   "metadata": {},
   "source": [
    "Podemos observar que realmente las únicas variables con coeficientes de correlación altos son las asociadas con G1, G2 y G3. Estas variables están asociadas a las calificaciones en cada periodo y la calificación final. \n",
    "Si bien es cierto que podría ser obvio que entre mayor la calificación de un periodo, es mayor la calificación final, creo que vale la pena dejar estas variables. Para fines predictivos, un modelo sin las calificaciones de los periodos para predecir la calificación final parece irracional, y para fines estadísticos y de inferencia yo creo que valdría la pena observar la relación que hay entre cómo se inicia un periodo y como se termina. Es decir, no creo que necesariamente por iniciar bien un periodo se mantenga así el alumno. \n",
    "\n",
    "Ahora, para mejorar la capacidad predictiva de nuestro modelo tomaremos en cuenta las posibles interacciones entre variables. Para esto yo tomaré en cuenta la multiplicación de Horas de Estudio e internet, para ver si las horas de estudio con acceso a internet tienen aluna relación mayor. También usaré la operación G2/G1 para ver si el hecho de que el alumno mejore su segundo periodo con respecto al primero podría implicar una tendencia a mejorar su calificación. \n",
    "\n",
    "\n"
   ]
  },
  {
   "cell_type": "code",
   "execution_count": 16,
   "metadata": {},
   "outputs": [
    {
     "name": "stdout",
     "output_type": "stream",
     "text": [
      "   Edad  Reprobadas  Faltas  G1  G2     G2/G1  G3  Escuela_MS  Sexo_M  \\\n",
      "0    18           0       6   5   6  1.200000   6         0.0     0.0   \n",
      "1    17           0       4   5   5  1.000000   6         0.0     0.0   \n",
      "2    15           3      10   7   8  1.142857  10         0.0     0.0   \n",
      "3    15           0       2  15  14  0.933333  15         0.0     0.0   \n",
      "4    16           0       4   6  10  1.666667  10         0.0     0.0   \n",
      "\n",
      "   Internet_yes    2    3    4  Estudio 2 Internet  Estudio 3 Internet  \\\n",
      "0           0.0  1.0  0.0  0.0                 0.0                 0.0   \n",
      "1           1.0  1.0  0.0  0.0                 1.0                 0.0   \n",
      "2           1.0  1.0  0.0  0.0                 1.0                 0.0   \n",
      "3           1.0  0.0  1.0  0.0                 0.0                 1.0   \n",
      "4           0.0  1.0  0.0  0.0                 0.0                 0.0   \n",
      "\n",
      "   Estudio 4 Internet  \n",
      "0                 0.0  \n",
      "1                 0.0  \n",
      "2                 0.0  \n",
      "3                 0.0  \n",
      "4                 0.0  \n"
     ]
    }
   ],
   "source": [
    "df.insert(12,\"Estudio 2 Internet\",df.Internet_yes*df.iloc[:,9])\n",
    "\n",
    "df.insert(13,\"Estudio 3 Internet\",df.Internet_yes*df.iloc[:,10])\n",
    "df.insert(14,\"Estudio 4 Internet\",df.Internet_yes*df.iloc[:,11])\n",
    "df.insert(5,\"G2/G1\",df.G2/df.G1)\n",
    "print(df.head())\n",
    "\n"
   ]
  },
  {
   "cell_type": "markdown",
   "metadata": {},
   "source": [
    "Ahora que ya tenemos nuestra base de datos lista, podremos hacer el modelo de regresión múltiple. Para esto, primero separaremos nuestros datos de entrenamiento y de prueba a una relación 80/20. También definiremos a G3, el promedio final, como nuestra variable de salida.\n",
    "\n"
   ]
  },
  {
   "cell_type": "code",
   "execution_count": 17,
   "metadata": {},
   "outputs": [
    {
     "name": "stdout",
     "output_type": "stream",
     "text": [
      "(316, 15)\n",
      "(316,)\n",
      "(79, 15)\n",
      "(79,)\n",
      "                            OLS Regression Results                            \n",
      "==============================================================================\n",
      "Dep. Variable:                     G3   R-squared:                       0.822\n",
      "Model:                            OLS   Adj. R-squared:                  0.813\n",
      "Method:                 Least Squares   F-statistic:                     92.25\n",
      "Date:                Mon, 10 Feb 2025   Prob (F-statistic):          1.05e-102\n",
      "Time:                        00:04:35   Log-Likelihood:                -663.31\n",
      "No. Observations:                 316   AIC:                             1359.\n",
      "Df Residuals:                     300   BIC:                             1419.\n",
      "Df Model:                          15                                         \n",
      "Covariance Type:            nonrobust                                         \n",
      "======================================================================================\n",
      "                         coef    std err          t      P>|t|      [0.025      0.975]\n",
      "--------------------------------------------------------------------------------------\n",
      "const                  2.9897      2.332      1.282      0.201      -1.600       7.580\n",
      "Edad                  -0.2385      0.106     -2.260      0.025      -0.446      -0.031\n",
      "Reprobadas            -0.2345      0.173     -1.358      0.175      -0.574       0.105\n",
      "Faltas                 0.0515      0.015      3.523      0.000       0.023       0.080\n",
      "G1                     0.1146      0.182      0.629      0.530      -0.244       0.473\n",
      "G2                     1.0270      0.183      5.617      0.000       0.667       1.387\n",
      "G2/G1                 -0.6671      1.522     -0.438      0.661      -3.662       2.328\n",
      "Escuela_MS             0.5021      0.393      1.276      0.203      -0.272       1.276\n",
      "Sexo_M                 0.1863      0.251      0.743      0.458      -0.307       0.680\n",
      "Internet_yes          -0.5122      0.603     -0.850      0.396      -1.698       0.674\n",
      "2                     -0.3403      0.665     -0.512      0.609      -1.648       0.968\n",
      "3                      0.2823      1.300      0.217      0.828      -2.277       2.841\n",
      "4                     -3.4159      1.309     -2.609      0.010      -5.993      -0.839\n",
      "Estudio 2 Internet     0.1094      0.728      0.150      0.881      -1.323       1.542\n",
      "Estudio 3 Internet    -0.2403      1.354     -0.178      0.859      -2.904       2.424\n",
      "Estudio 4 Internet     2.7922      1.403      1.991      0.047       0.032       5.553\n",
      "==============================================================================\n",
      "Omnibus:                      142.666   Durbin-Watson:                   1.950\n",
      "Prob(Omnibus):                  0.000   Jarque-Bera (JB):              569.886\n",
      "Skew:                          -1.967   Prob(JB):                    1.78e-124\n",
      "Kurtosis:                       8.273   Cond. No.                         539.\n",
      "==============================================================================\n",
      "\n",
      "Notes:\n",
      "[1] Standard Errors assume that the covariance matrix of the errors is correctly specified.\n"
     ]
    }
   ],
   "source": [
    "from sklearn.model_selection import train_test_split \n",
    "#Separacion de datos de prueba y de datos de entrenamiento\n",
    "X_train, X_test, Y_train, Y_test = train_test_split(df.drop(\"G3\",axis=1),df.G3,train_size = 0.8, random_state=508)\n",
    "\n",
    "print(X_train.shape)\n",
    "print(Y_train.shape)\n",
    "print(X_test.shape)\n",
    "print(Y_test.shape)\n",
    "\n",
    "#Generar el modelo\n",
    "import statsmodels.api as sm\n",
    "model = sm.OLS(Y_train,sm.add_constant(X_train))\n",
    "#Entrenar el modelo\n",
    "results = model.fit()\n",
    "#Imprimir resultados del modelo\n",
    "print(results.summary())"
   ]
  },
  {
   "cell_type": "markdown",
   "metadata": {},
   "source": [
    "Podemos observar que el valor P del estadístico F es mucho menor a 0.05, por lo que al menos una de las variables tiene un impacto estadísticamente significativo en la calificación final. El modelo tiene un valor R2 ajustada moderadamente alto, es de 0.813.\n",
    "\n",
    "Algunos de los descubrimientos que más llaman la atención son los siguientes: \n",
    "Los p values para el acceso a internet, el acceso internet y estudiar de 2 a 5 horas y el acceso a internet y estudiar de cinco a diez horas son mayores a 0.05; sin embargo, tanto la variable de estudiar más de diez horas y la de estudiar más de 10 horas con internet tienen un pvalue menor a 0.05. \n",
    "\n",
    "Esto quiere decir que antes de las 10 horas no existe suficiente evidencia como para decir que hay un aumento o decremento entre la calificación final y las horas de estudio con o sin internet, sin embargo, una vez sobrepasadas las 10 horas si hay una relación estadísticamente significativa, entre estudiar y aumentar las calificaciones y estudiar con acceso a internet y mejorar la calificación final. \n",
    "\n",
    "No hay una relación estadísticamente significativa entre estudiar en una escuela u otra. \n",
    "\n",
    "Tampoco hay una relación estadísticamente significativa entre la relación G2/G1, por lo que me equivoqué al pensar que habría una relación entre la mejora del primer término sobre el segundo. \n",
    "\n",
    "Hay una relación con un pvalue menor a 0.05 entre las faltas y la calificación final, lo que en un inicio no pareciera hacer mucho sentido, pero el coeficiente es muy pequeño, por cada falta se esperaría un aumento de 0.05 puntos de 20, por lo que a pesar del p value no creo que sea muy significativa. \n",
    "\n",
    "Finalmente veremos qué tan buen trabajo hace este modelo al compararlo con los valores de prueba. Para esto haremos uso de un scatter entre los valores predichos y la salida de prueba real. \n",
    "\n",
    "\n",
    "\n",
    "\n"
   ]
  },
  {
   "cell_type": "code",
   "execution_count": 18,
   "metadata": {},
   "outputs": [
    {
     "data": {
      "text/plain": [
       "Text(0.5, 1.0, 'Gráfica de Dispersión de Predicciones vs Reales')"
      ]
     },
     "execution_count": 18,
     "metadata": {},
     "output_type": "execute_result"
    },
    {
     "data": {
      "image/png": "[encoded data removed]",
      "text/plain": [
       "<Figure size 640x480 with 1 Axes>"
      ]
     },
     "metadata": {},
     "output_type": "display_data"
    }
   ],
   "source": [
    "yHat = results.predict(sm.add_constant(X_test))\n",
    "# Importar librería\n",
    "# Generar gráfica de dispersión\n",
    "plt.scatter(Y_test,yHat)\n",
    "# Agregar línea roja de referencia\n",
    "plt.plot([0,20],[0,20],color=\"red\")\n",
    "plt.xlabel(\"Valores Reales\")\n",
    "plt.ylabel(\"Valores Predichos\")\n",
    "plt.title(\"Gráfica de Dispersión de Predicciones vs Reales\")\n",
    "\n"
   ]
  },
  {
   "cell_type": "markdown",
   "metadata": {},
   "source": [
    "En general el modelo parece hacer un buen trabajo para predecir las calificaciones, en especial para calificaciones no muy extremas. Sin embargo, parece que tiene más problemas para calificacionews muy bajas, dando un valor mayor al esperado. Aunque, es entendible que muy probablemente para un 0 cerrado haya variables externas que no se tomen en cuenta  con estos datos, por lo que probablemente debí haber filtrado esos valores como outliers."
   ]
  }
 ],
 "metadata": {
  "kernelspec": {
   "display_name": "base",
   "language": "python",
   "name": "python3"
  },
  "language_info": {
   "codemirror_mode": {
    "name": "ipython",
    "version": 3
   },
   "file_extension": ".py",
   "mimetype": "text/x-python",
   "name": "python",
   "nbconvert_exporter": "python",
   "pygments_lexer": "ipython3",
   "version": "3.12.3"
  }
 },
 "nbformat": 4,
 "nbformat_minor": 2
}
